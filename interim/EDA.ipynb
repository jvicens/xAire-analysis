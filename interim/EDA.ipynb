{
 "cells": [
  {
   "cell_type": "code",
   "execution_count": 1,
   "metadata": {},
   "outputs": [],
   "source": [
    "import pandas as pd\n",
    "import numpy as np\n",
    "\n",
    "from sklearn.preprocessing import LabelEncoder"
   ]
  },
  {
   "cell_type": "code",
   "execution_count": 2,
   "metadata": {},
   "outputs": [],
   "source": [
    "df_games = pd.read_csv(r'data/games_xaire.csv')\n",
    "df_users = pd.read_csv(r'data/users_xaire.csv')"
   ]
  },
  {
   "cell_type": "code",
   "execution_count": 3,
   "metadata": {},
   "outputs": [
    {
     "data": {
      "text/plain": [
       "Index(['Unnamed: 0', 'id', 'is_robot', 'nickname', 'consent', 'status',\n",
       "       'pollution_id', 'num_jugador', 'partida_id', 'num_seleccions', 'bots',\n",
       "       'acabat', 'endowment_initial', 'endowment_current',\n",
       "       'contributed_public_goods', 'winnings_public_goods',\n",
       "       'savings_public_goods', 'coins_total', 'tickets', 'gender', 'age_range',\n",
       "       'educational_level', 'economic_status', 'working_status', 'residence',\n",
       "       'frame_pr1', 'frame_pr2', 'frame_pr3', 'verification_pr1',\n",
       "       'verification_pr2', 'verification_pr3', 'verification_pr4',\n",
       "       'enquesta_final_pr1', 'enquesta_final_pr2', 'enquesta_final_pr3',\n",
       "       'enquesta_final_pr4', 'enquesta_final_pr5', 'enquesta_final_pr6',\n",
       "       'enquesta_final_pr7', 'enquesta_final_pr8', 'enquesta_final_pr9',\n",
       "       'enquesta_final_pr10', 'enquesta_final_pr11', 'date_tutorial',\n",
       "       'date_register', 'date_creation', 'date_end', 'comment',\n",
       "       'contributions', 'R1', 'R2', 'R3', 'R4', 'R5', 'R6', 'R7', 'R8', 'R9',\n",
       "       'R10', 'no2_level'],\n",
       "      dtype='object')"
      ]
     },
     "execution_count": 3,
     "metadata": {},
     "output_type": "execute_result"
    }
   ],
   "source": [
    "df_users.columns"
   ]
  },
  {
   "cell_type": "markdown",
   "metadata": {},
   "source": [
    "#### Frame Questions\n",
    "\n",
    "pr1\tHow would you rate the quality of the air you breathe where you live?\n",
    "**pr1_r1**\tBad\n",
    "**pr1_r2**\tNormal\n",
    "**pr1_r3**\tGood\n",
    "\n",
    "pr2 Are you concerned about the air quality where you live?\n",
    "****pr2_r1**\tLittle\n",
    "**pr2_r2**\tSomewhat\n",
    "**pr2_r3**\tA lot\n",
    "\n",
    "pr3\tWould you perform a collective action to improve air quality in Barcelona?\n",
    "**pr3_r1**\tYes\n",
    "**pr3_r2**\tNo"
   ]
  },
  {
   "cell_type": "code",
   "execution_count": 4,
   "metadata": {},
   "outputs": [],
   "source": [
    "df = df_users.copy()\n",
    "\n",
    "df['frame_pr1'] = LabelEncoder().fit_transform(df['frame_pr1'])\n",
    "df['frame_pr2'] = LabelEncoder().fit_transform(df['frame_pr2'])\n",
    "df['frame_pr3'] = LabelEncoder().fit_transform(df['frame_pr3'])"
   ]
  },
  {
   "cell_type": "markdown",
   "metadata": {},
   "source": [
    "#### Correlation between frame questions"
   ]
  },
  {
   "cell_type": "code",
   "execution_count": 15,
   "metadata": {},
   "outputs": [
    {
     "ename": "TypeError",
     "evalue": "cannot unpack non-iterable numpy.float64 object",
     "output_type": "error",
     "traceback": [
      "\u001b[0;31m---------------------------------------------------------------------------\u001b[0m",
      "\u001b[0;31mTypeError\u001b[0m                                 Traceback (most recent call last)",
      "\u001b[0;32m<ipython-input-15-c5ddf1d37335>\u001b[0m in \u001b[0;36m<module>\u001b[0;34m\u001b[0m\n\u001b[0;32m----> 1\u001b[0;31m \u001b[0mcorr\u001b[0m\u001b[0;34m,\u001b[0m \u001b[0mp\u001b[0m \u001b[0;34m=\u001b[0m \u001b[0mdf\u001b[0m\u001b[0;34m[\u001b[0m\u001b[0;34m'frame_pr1'\u001b[0m\u001b[0;34m]\u001b[0m\u001b[0;34m.\u001b[0m\u001b[0mcorr\u001b[0m\u001b[0;34m(\u001b[0m\u001b[0mdf\u001b[0m\u001b[0;34m[\u001b[0m\u001b[0;34m'frame_pr2'\u001b[0m\u001b[0;34m]\u001b[0m\u001b[0;34m)\u001b[0m\u001b[0;34m\u001b[0m\u001b[0;34m\u001b[0m\u001b[0m\n\u001b[0m\u001b[1;32m      2\u001b[0m \u001b[0mprint\u001b[0m\u001b[0;34m(\u001b[0m\u001b[0;34m'Correlation frame_pr1 vs. frame_pr2: {}'\u001b[0m\u001b[0;34m.\u001b[0m\u001b[0mformat\u001b[0m\u001b[0;34m(\u001b[0m\u001b[0mcorr\u001b[0m\u001b[0;34m)\u001b[0m\u001b[0;34m)\u001b[0m\u001b[0;34m\u001b[0m\u001b[0;34m\u001b[0m\u001b[0m\n",
      "\u001b[0;31mTypeError\u001b[0m: cannot unpack non-iterable numpy.float64 object"
     ]
    }
   ],
   "source": [
    "corr = df['frame_pr1'].corr(df['frame_pr2'])\n",
    "print('Correlation frame_pr1 vs. frame_pr2: {}'.format(corr))"
   ]
  },
  {
   "cell_type": "markdown",
   "metadata": {},
   "source": [
    "#### Correlation between contributions and frame questions"
   ]
  },
  {
   "cell_type": "code",
   "execution_count": 6,
   "metadata": {},
   "outputs": [
    {
     "name": "stdout",
     "output_type": "stream",
     "text": [
      "Correlation contribution vs. frame_pr1: 0.015707581696213176\n",
      "Correlation contribution vs. frame_pr2: 0.07722507263938848\n",
      "Correlation contribution vs. frame_pr3: -0.013314597361641919\n"
     ]
    }
   ],
   "source": [
    "\n",
    "corr = df['contributed_public_goods'].corr(df['frame_pr1'])\n",
    "print('Correlation contribution vs. frame_pr1: {}'.format(corr))\n",
    "\n",
    "corr = df['contributed_public_goods'].corr(df['frame_pr2'])\n",
    "print('Correlation contribution vs. frame_pr2: {}'.format(corr))\n",
    "\n",
    "corr = df['contributed_public_goods'].corr(df['frame_pr3'])\n",
    "print('Correlation contribution vs. frame_pr3: {}'.format(corr))"
   ]
  },
  {
   "cell_type": "code",
   "execution_count": 7,
   "metadata": {},
   "outputs": [],
   "source": [
    "def correlation_ratio(categories, measurements):\n",
    "    '''\n",
    "     Correlation Ratio. \n",
    "     Mathematically, it is defined as the weighted variance of the mean of each category \n",
    "     divided by the variance of all samples; in human language, the Correlation Ratio answers \n",
    "     the following question: Given a continuous number, how well can you know to which category \n",
    "     it belongs to? Just like the two coefficients we’ve seen before, here too the output is on \n",
    "     the range of [0,1].\n",
    "    '''\n",
    "    \n",
    "    fcat, _ = pd.factorize(categories)\n",
    "    cat_num = np.max(fcat)+1\n",
    "    y_avg_array = np.zeros(cat_num)\n",
    "    n_array = np.zeros(cat_num)\n",
    "    for i in range(0,cat_num):\n",
    "        cat_measures = measurements[np.argwhere(fcat == i).flatten()]\n",
    "        n_array[i] = len(cat_measures)\n",
    "        y_avg_array[i] = np.average(cat_measures)\n",
    "    y_total_avg = np.sum(np.multiply(y_avg_array,n_array))/np.sum(n_array)\n",
    "    numerator = np.sum(np.multiply(n_array,np.power(np.subtract(y_avg_array,y_total_avg),2)))\n",
    "    denominator = np.sum(np.power(np.subtract(measurements,y_total_avg),2))\n",
    "    if numerator == 0:\n",
    "        eta = 0.0\n",
    "    else:\n",
    "        eta = np.sqrt(numerator/denominator)\n",
    "    return eta"
   ]
  },
  {
   "cell_type": "code",
   "execution_count": 8,
   "metadata": {},
   "outputs": [
    {
     "name": "stdout",
     "output_type": "stream",
     "text": [
      "Correlation contribution vs. frame_pr1: 0.027644349759101607\n",
      "Correlation contribution vs. frame_pr2: 0.11940111571015627\n",
      "Correlation contribution vs. frame_pr3: 0.013314597361641818\n"
     ]
    }
   ],
   "source": [
    "corr = correlation_ratio(df_users['frame_pr1'], df_users['contributed_public_goods'])\n",
    "print('Correlation contribution vs. frame_pr1: {}'.format(corr))\n",
    "corr = correlation_ratio(df_users['frame_pr2'], df_users['contributed_public_goods'])\n",
    "print('Correlation contribution vs. frame_pr2: {}'.format(corr))\n",
    "corr = correlation_ratio(df_users['frame_pr3'], df_users['contributed_public_goods'])\n",
    "print('Correlation contribution vs. frame_pr3: {}'.format(corr))\n"
   ]
  },
  {
   "cell_type": "markdown",
   "metadata": {},
   "source": [
    "#### Correlation between no2_level and frame questions"
   ]
  },
  {
   "cell_type": "code",
   "execution_count": 9,
   "metadata": {},
   "outputs": [
    {
     "name": "stdout",
     "output_type": "stream",
     "text": [
      "Correlation no2_level vs. frame_pr1: -0.21220633570254463\n",
      "Correlation no2_level vs. frame_pr2: -0.04723996975342811\n",
      "Correlation no2_level vs. frame_pr3: 0.026141737326561124\n"
     ]
    }
   ],
   "source": [
    "corr = df['no2_level'].corr(df['frame_pr1'])\n",
    "print('Correlation no2_level vs. frame_pr1: {}'.format(corr))\n",
    "\n",
    "corr = df['no2_level'].corr(df['frame_pr2'])\n",
    "print('Correlation no2_level vs. frame_pr2: {}'.format(corr))\n",
    "\n",
    "corr = df['no2_level'].corr(df['frame_pr3'])\n",
    "print('Correlation no2_level vs. frame_pr3: {}'.format(corr))"
   ]
  },
  {
   "cell_type": "code",
   "execution_count": null,
   "metadata": {},
   "outputs": [],
   "source": []
  }
 ],
 "metadata": {
  "kernelspec": {
   "display_name": "Python 3",
   "language": "python",
   "name": "python3"
  },
  "language_info": {
   "codemirror_mode": {
    "name": "ipython",
    "version": 3
   },
   "file_extension": ".py",
   "mimetype": "text/x-python",
   "name": "python",
   "nbconvert_exporter": "python",
   "pygments_lexer": "ipython3",
   "version": "3.7.7"
  }
 },
 "nbformat": 4,
 "nbformat_minor": 2
}
